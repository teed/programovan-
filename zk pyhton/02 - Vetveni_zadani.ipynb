{
 "cells": [
  {
   "cell_type": "markdown",
   "metadata": {
    "id": "DuGwAKaLL43Q"
   },
   "source": [
    "# Desetiminutovka\n",
    "\n",
    "Vytvořte program, který bude počítat následující příklad a vypište i mezi výsledky.\n",
    "\n",
    "\n",
    "1.   Zadejte aktuální počet žáků ve třídě a vynásobte ho třemi\n",
    "2.   vydělte výsledek dvěma a přičtěte 1\n",
    "3.   umocněte na druhou\n",
    "4.   na závěr udělejte modulo 15\n",
    "\n",
    "---\n",
    "\n",
    "Ukázka řešení:\n",
    "```\n",
    "Zadejte počet žáků: 15\n",
    "Výsledek první operace je: 45\n",
    "Výsledek druhé operace je: 23.5\n",
    "Výsledek třetí operace je: 552.25\n",
    "Výsledek čtvrté operace je: 12.25\n",
    "\n",
    "```\n",
    "\n",
    "\n",
    "\n"
   ]
  },
  {
   "cell_type": "code",
   "execution_count": null,
   "metadata": {
    "id": "cyylItaVN7fq"
   },
   "outputs": [],
   "source": [
    "#na druhý řádek začněte vypracovávat desetiminutovku\n"
   ]
  },
  {
   "cell_type": "markdown",
   "metadata": {
    "id": "GwSeZuPygz0U"
   },
   "source": [
    "# Větvení"
   ]
  },
  {
   "cell_type": "markdown",
   "metadata": {
    "id": "IdCRDMc4g4uX"
   },
   "source": [
    "Můžeme si představit, že program běží po jednotlivých větvích - proto říkáme této řídící struktuře větvení.\n",
    "\n",
    "Stejně jako u větví na stromě se v nějakém místě programu můžeme chtít vydat jedním ze dvou směrů - po jedné ze dvou různých větví.\n",
    "\n",
    "Na rozdíl od větví na stromě se dvě (či více) větví v programu může opět spojit do jedné."
   ]
  },
  {
   "cell_type": "markdown",
   "metadata": {
    "id": "a8W22z8ShZUC"
   },
   "source": [
    "# If"
   ]
  },
  {
   "cell_type": "markdown",
   "metadata": {
    "id": "zSeFJuTdhbea"
   },
   "source": [
    "Nejjednodušší řídící struktura <doce>if</code> nám poslouží v případě, že chceme některé příkazy provést pouze někdy - jen pokud je splěna daná podmínka. Pokud podmínka splněna není, příkazy se preskočí.\n",
    "\n",
    "Za klíčové slovo <code>if</code> píšeme podmínku - cokoliv, o čem umí Python rozhodnout, zda je to <code>True</code> nebo <code>False</code>.\n",
    "Můžeme zde přímo zapsat <code>True</code> / <code>False</code>, často zde píšeme operátory pro porovnání: <, >, ==, !=, <=j, >=.\n",
    "\n",
    "\n",
    "Syntax:\n",
    "<pre>\n",
    "if podmínka:\n",
    "  příkaz_v_těle_if_1\n",
    "  příkaz_v_těle_if_2\n",
    "\n",
    "příkaz_mimo_tělo_if\n",
    "\n",
    "</pre>"
   ]
  },
  {
   "cell_type": "code",
   "execution_count": null,
   "metadata": {
    "id": "z4j9stuENZ-X"
   },
   "outputs": [],
   "source": [
    "obdobi = \"léto\"\n",
    "\n",
    "if obdobi == \"zima\":\n",
    "  print(\"Máma ti vzkazuje:\", \"Vezmi si kulicha!\")"
   ]
  },
  {
   "cell_type": "markdown",
   "metadata": {
    "id": "RqPkenbTke6i"
   },
   "source": [
    "# if-else"
   ]
  },
  {
   "cell_type": "markdown",
   "metadata": {
    "id": "Rs96ZAK1kjMj"
   },
   "source": [
    "Často chceme aby se pří splnění podmínky vykonaly některé příkazy a pří nesplnění se vykonaly jiné. Chceme tedy pomocí podmínky vybrat jednu ze dvou skupin příkazů. K tomu slouží konstrukce <code>if-else</code>.\n",
    "\n",
    "Při splnění podmínky (True) se (stejně jako v obyčejném <code>if</code>) provedou příkazy v těle <code>if</code>. Při nesplnění podmínky (False) se provedou příkazy v těle <code>else</code>. Jedna z těchto dvou skupin příkazů se tedy provede vždy."
   ]
  },
  {
   "cell_type": "code",
   "execution_count": null,
   "metadata": {
    "id": "rm9QlRXDPxaO"
   },
   "outputs": [],
   "source": [
    "obdobi = \"léto\"\n",
    "\n",
    "if obdobi == \"zima\":\n",
    "  print(\"Máma ti vzkazuje:\", \"Vezmi si kulicha!\")\n",
    "else:\n",
    "  print(\"Máma ti vkazuje:\", \"Stejně si vezmi kulicha!\")"
   ]
  },
  {
   "cell_type": "markdown",
   "metadata": {
    "id": "bNf6Gcg4l4Ci"
   },
   "source": [
    "Kontrolní otázka: Co vám vzkazuje máma v létě?"
   ]
  },
  {
   "cell_type": "markdown",
   "metadata": {
    "id": "505XULZcmD73"
   },
   "source": [
    "# elif"
   ]
  },
  {
   "cell_type": "markdown",
   "metadata": {
    "id": "IqCYsNllmFPk"
   },
   "source": [
    "Opravíme předcházející kód. Někdy potřebujeme vybrat ne mezi dvěma možnostmi (větvemi), ale mezi více. K tomu slouží klíčové slovo <code>elif</code> (od slovního spojení \"else if\") - dovolí nám vložit další \"větev\". Takových větví může být libovolné množství a program se vydá vždy jen tou z nich, u které je podmínka splěnena jako první (kontrolováno od shora dolů). Pokud není splněna žádná z podmínek, vydá se program větví <code>else</code> (pokud existuje)."
   ]
  },
  {
   "cell_type": "code",
   "execution_count": null,
   "metadata": {
    "id": "Oj_oDdncnz1g"
   },
   "outputs": [],
   "source": [
    "obdobi = \"léto\"\n",
    "\n",
    "if obdobi == \"zima\":\n",
    "  print(\"Máma ti vzkazuje:\", \"Vezmi si kulicha!\")\n",
    "elif obdobi == \"jaro\":\n",
    "  print(\"Máma ti vzkazuje:\", \"Vezmi si pořádný boty!\")\n",
    "elif obdobi == \"léto\":\n",
    "  print(\"Máma ti vzkazuje:\", \"Vezmi si opalovací krém!\")\n",
    "elif obdobi == \"podzim\":\n",
    "  print(\"Máma ti vzkazuje:\", \"Vezmi si šálu!\")\n",
    "#else:\n",
    "#  print(\"Máma ti vkazuje:\", \"Vezmi si svačinu!\")"
   ]
  },
  {
   "cell_type": "markdown",
   "metadata": {
    "id": "I5bgTEEInnFH"
   },
   "source": [
    "# Vnoření"
   ]
  },
  {
   "cell_type": "markdown",
   "metadata": {
    "id": "lkanv-1fnof6"
   },
   "source": [
    "Větvení (stejně jako jiné řídící struktury) můžeme takzvaně vnořovat - tedy vkládat jednu do druhé."
   ]
  },
  {
   "cell_type": "code",
   "execution_count": null,
   "metadata": {
    "id": "yZx5zk9hpUAI"
   },
   "outputs": [],
   "source": [
    "obdobi = \"léto\"\n",
    "teplota = -20\n",
    "\n",
    "if obdobi == \"zima\":\n",
    "  print(\"Máma ti vzkazuje:\", \"Vezmi si kulicha!\")\n",
    "  if teplota < 0:\n",
    "    print(\"Zmrzne ti hlava!\")\n",
    "  if teplota > -10:\n",
    "    print(\"Stejně si ho vezmi...\")\n",
    "\n",
    "elif obdobi == \"jaro\":\n",
    "  print(\"Máma ti vzkazuje:\", \"Vezmi si pořádný boty!\")\n",
    "elif obdobi == \"léto\":\n",
    "  print(\"Máma ti vzkazuje:\", \"Vezmi si opalovací krém!\")\n",
    "elif obdobi == \"podzim\":\n",
    "  print(\"Máma ti vzkazuje:\", \"Vezmi si šálu!\")\n",
    "#else:\n",
    "#  print(\"Máma ti vkazuje:\", \"Vezmi si svačinu!\")"
   ]
  },
  {
   "cell_type": "markdown",
   "metadata": {
    "id": "4g_irHJ-pDgt"
   },
   "source": [
    "# Cvičení"
   ]
  },
  {
   "cell_type": "markdown",
   "metadata": {
    "id": "-jsiqIhNst4_"
   },
   "source": [
    "# 1"
   ]
  },
  {
   "cell_type": "markdown",
   "metadata": {
    "id": "DQBKlFL6uAko"
   },
   "source": [
    "Pro zadaný věk pomocí podmínek vyhodnoť jestli je daný člověk dospívající, dospělý, nebo dítě.\n",
    "\n",
    "> Dospělý >= 18, Dospívající >= 15, Dítě > 0\n",
    "\n"
   ]
  },
  {
   "cell_type": "code",
   "execution_count": null,
   "metadata": {
    "id": "XZ-zrGpouVbD"
   },
   "outputs": [],
   "source": []
  },
  {
   "cell_type": "code",
   "execution_count": null,
   "metadata": {
    "id": "CJEDwwtaLEbs"
   },
   "outputs": [],
   "source": []
  },
  {
   "cell_type": "markdown",
   "metadata": {
    "id": "61F_FhLYuy_e"
   },
   "source": [
    "Referenční řešení pro kontrolu (referenční kód má 10 řádků):\n",
    "\n",
    "<table><tr>\n",
    "<td><pre>\n",
    "Zadejte věk: 20\n",
    "Dospělý\n",
    "</pre></td>\n",
    "<td><pre>\n",
    "Zadejte věk: 15\n",
    "Dospívající\n",
    "</pre></td>\n",
    "<td><pre>\n",
    "Zadejte věk: 5\n",
    "Dítě\n",
    "</pre></td>\n",
    "<td><pre>\n",
    "Zadejte věk: 0\n",
    "Toto číslo není věk.\n",
    "</pre></td>\n",
    "<td><pre>\n",
    "Zadejte věk: -6\n",
    "Toto číslo není věk.\n",
    "</pre></td>\n",
    "</tr></table>\n",
    "\n",
    "\n",
    "\n",
    "\n",
    "\n",
    "\n",
    "\n",
    "\n"
   ]
  },
  {
   "cell_type": "markdown",
   "metadata": {
    "id": "fuQvYSTwsWVg"
   },
   "source": [
    "<h3>2</h3>\n",
    "Napište program, který vyhodnotí, zda je naměřená rychlost v pořádku, nebo je přes povolený limit.\n",
    "\n",
    "Na dálnici je limit 130, mimo obec 90 a v obci 50."
   ]
  },
  {
   "cell_type": "code",
   "execution_count": null,
   "metadata": {
    "colab": {
     "base_uri": "https://localhost:8080/"
    },
    "executionInfo": {
     "elapsed": 2,
     "status": "ok",
     "timestamp": 1696424007342,
     "user": {
      "displayName": "",
      "userId": ""
     },
     "user_tz": -120
    },
    "id": "NTgKy5cNsvGt",
    "outputId": "8f652ad4-f15d-4d5b-e859-ea609d466275"
   },
   "outputs": [
    {
     "name": "stdout",
     "output_type": "stream",
     "text": [
      "Pozice auta: obec \n",
      "Rychlost: 60\n",
      "Vysoká rychlost\n"
     ]
    }
   ],
   "source": []
  },
  {
   "cell_type": "markdown",
   "metadata": {
    "id": "IISJMU5rumRv"
   },
   "source": [
    "Referenční řešení pro kontrolu (referenční kód má 22 řádků):\n",
    "\n",
    "<table><tr>\n",
    "<td><pre>\n",
    "Pozice auta: dálnice\n",
    "Rychlost: 80\n",
    "OK\n",
    "</pre></td>\n",
    "<td><pre>\n",
    "Pozice auta: dálnice\n",
    "Rychlost: 150\n",
    "Vysoká rychlost\n",
    "</pre></td>\n",
    "<td><pre>\n",
    "Pozice auta: mimo_obec\n",
    "Rychlost: 95\n",
    "Vysoká rychlost\n",
    "</pre></td>\n",
    "<td><pre>\n",
    "Pozice auta: mimo_obec\n",
    "Rychlost: 40\n",
    "OK\n",
    "</pre></td>\n",
    "<td><pre>\n",
    "Pozice auta: obec\n",
    "Rychlost: 40\n",
    "OK\n",
    "</pre></td>\n",
    "<td><pre>\n",
    "Pozice auta: obec\n",
    "Rychlost: 60\n",
    "Vysoká rychlost\n",
    "</pre></td>\n",
    "</tr></table>\n"
   ]
  }
 ],
 "metadata": {
  "colab": {
   "provenance": [
    {
     "file_id": "https://github.com/JaroslavHolecek/Teaching/blob/master/JupyterNotebook/Python/Vetveni_zadani.ipynb",
     "timestamp": 1696424694669
    }
   ]
  },
  "kernelspec": {
   "display_name": "Python 3",
   "name": "python3"
  },
  "language_info": {
   "name": "python"
  }
 },
 "nbformat": 4,
 "nbformat_minor": 0
}
